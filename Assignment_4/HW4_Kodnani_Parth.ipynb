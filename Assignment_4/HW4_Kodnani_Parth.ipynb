{
 "cells": [
  {
   "cell_type": "markdown",
   "id": "4905dd01-830e-4bb5-816b-cf5223ac3bb6",
   "metadata": {},
   "source": [
    "* Name: Parth Kodnani \n",
    "* Course: BUDT704 \n",
    "* Section: 0502\n",
    "* Date: 10/22/2021"
   ]
  },
  {
   "cell_type": "markdown",
   "id": "3ae0a426-e3a4-4536-8485-25e7dc681bf6",
   "metadata": {},
   "source": [
    "# Inc. 5000 Analysis"
   ]
  },
  {
   "cell_type": "code",
   "execution_count": null,
   "id": "c1c05873-5781-4848-89e3-da1a796cb96d",
   "metadata": {},
   "outputs": [],
   "source": [
    "# Importing the necessary libraries\n",
    "\n",
    "import numpy as np\n",
    "import pandas as pd\n",
    "import matplotlib.pyplot as plt\n",
    "import seaborn as sns"
   ]
  },
  {
   "cell_type": "markdown",
   "id": "872afc28-a9ab-4237-b899-003040ddb826",
   "metadata": {},
   "source": [
    "## Case 1\n",
    "1. Load the data from the file into a data frame with rank denoted as the index.\n",
    "2. Print the total number of companies on the list.\n",
    "3. Print a data frame containing companies ranked within the top 25."
   ]
  },
  {
   "cell_type": "markdown",
   "id": "8fa45c81-92fc-42c6-9369-c6c4095fe8a0",
   "metadata": {},
   "source": [
    "### Steps for Case 1\n",
    "1. Using pd.read_excel to import the data file and setting the 'RANK' column as the index.\n",
    "2. Counting the number of companies by using the len() function.\n",
    "3. Displaying the first 25 rows by using loc function."
   ]
  },
  {
   "cell_type": "code",
   "execution_count": null,
   "id": "681b9d3e-a8e6-4d4e-ad20-1490fbba7a06",
   "metadata": {},
   "outputs": [],
   "source": [
    "dfCompany = pd.read_excel(r'D:\\MSIS\\Data Processing and Analysis in Python\\Homeworks\\HW4\\HW4_inc5000-2018.xlsx', index_col = 1)\n",
    "dfCompany.head() # To check whether the dataframe has loaded correctly"
   ]
  },
  {
   "cell_type": "code",
   "execution_count": null,
   "id": "2c67336f-a949-4272-8b58-00a520d166eb",
   "metadata": {},
   "outputs": [],
   "source": [
    "numberCompany = len(dfCompany) # Counting number of companies\n",
    "print(f'Total Number of Companies: {numberCompany}')"
   ]
  },
  {
   "cell_type": "code",
   "execution_count": null,
   "id": "8e2dfb3f-d40e-403c-a3ac-45c0f5fe8dca",
   "metadata": {},
   "outputs": [],
   "source": [
    "top25 = dfCompany.loc[:25] # Printing the first 25 companies\n",
    "top25"
   ]
  },
  {
   "cell_type": "markdown",
   "id": "7e3cb246-8666-4335-8378-65230b857ef2",
   "metadata": {},
   "source": [
    "## Case 2\n",
    "1. Describe and complete two different modifications to achieve tidy data."
   ]
  },
  {
   "cell_type": "markdown",
   "id": "c0c58419-d9b2-483a-8297-a5767b93397d",
   "metadata": {},
   "source": [
    "### Dropping and Renaming Columns\n",
    "1. Checking for columns which have no use in the dataset, we find that column 14 and 15 are useless and hence we drop them.\n",
    "2. Checking for column names which have errors and changing them."
   ]
  },
  {
   "cell_type": "code",
   "execution_count": null,
   "id": "a96a22a3-9285-4aa2-adbd-2228bfa17023",
   "metadata": {},
   "outputs": [],
   "source": [
    "dropCol = dfCompany.drop(['Unnamed: 14', 'Unnamed: 15'], axis = 1) # To drop columns\n",
    "dropCol"
   ]
  },
  {
   "cell_type": "code",
   "execution_count": null,
   "id": "74e62a58-ae48-4265-8350-16ca7e34d623",
   "metadata": {},
   "outputs": [],
   "source": [
    "renameCol = dropCol.rename(columns={\"CITY.1\" : \"STATE\", \"STATE\" : \"STATECODE\", \"REVENUW\" : \"REVENUE\"}) # To rename columns for better access\n",
    "renameCol"
   ]
  },
  {
   "cell_type": "markdown",
   "id": "773fb53a-ce36-4e88-8e35-99a747718484",
   "metadata": {},
   "source": [
    "### Dealing with Missing Values\n",
    "1. To find the missing values, we first search the dataset for missing values and sum the missing values for all columns.\n",
    "2. After checking the number and types of missing values, we come to a conclusion that dropping these values wouldn't make such a difference to the dataset."
   ]
  },
  {
   "cell_type": "code",
   "execution_count": null,
   "id": "367786af-d176-4776-a918-80665578c5ac",
   "metadata": {},
   "outputs": [],
   "source": [
    "renameCol.isna().sum() # To check the total null values present in each column"
   ]
  },
  {
   "cell_type": "code",
   "execution_count": null,
   "id": "51830f9a-a4ef-4d26-a49b-82d13e514022",
   "metadata": {},
   "outputs": [],
   "source": [
    "null = renameCol.isnull() # To recognize null values\n",
    "nullAny = null.any(axis = 1) # To check for any null values\n",
    "nullPrint = renameCol[nullAny] # To put these null values in a dataframe\n",
    "nullPrint"
   ]
  },
  {
   "cell_type": "code",
   "execution_count": null,
   "id": "4ab181bf-f672-4610-b30a-e210bcfb6832",
   "metadata": {},
   "outputs": [],
   "source": [
    "# Filling up Null values with the respective values from 'CITY, STATE'\n",
    "renameCol[\"STATE\"] = renameCol[\"STATE\"].fillna(\"Colorado\")\n",
    "renameCol[\"STATECODE\"] = renameCol[\"STATECODE\"].fillna(\"CO\")\n",
    "renameCol[\"CITY\"] = renameCol[\"CITY\"].fillna(\"Sioux Falls\")\n",
    "renameCol[\"FOUNDED\"] = renameCol[\"FOUNDED\"].fillna(\"2009\")"
   ]
  },
  {
   "cell_type": "code",
   "execution_count": null,
   "id": "c9a2c46c-1751-486e-8ce4-c839bed748ff",
   "metadata": {},
   "outputs": [],
   "source": [
    "dfCleanCompany = renameCol.drop(['CITY, STATE'], axis = 1)\n",
    "dfCleanCompany"
   ]
  },
  {
   "cell_type": "markdown",
   "id": "f17df2a4-69ad-4c50-abe0-4c45c9e0c91f",
   "metadata": {},
   "source": [
    "## Case 3\n",
    "1. Load the data, HW4_states_by_region.csv into a data frame\n",
    "2. Within the data frame containing companies, create and populate a REGION column using the data from the new data frame just created."
   ]
  },
  {
   "cell_type": "markdown",
   "id": "c76f34e5-1b63-4e98-8a70-cf46e63613f3",
   "metadata": {},
   "source": [
    "### Steps for Case 3\n",
    "1. Importing the dataset first, we rename the columns to keep all column naming conventions same.\n",
    "2. We then merge the two dataframes, via left join, on two columns.\n",
    "3. We check for null values, and eliminate the null values which are present."
   ]
  },
  {
   "cell_type": "code",
   "execution_count": null,
   "id": "03fee291-f3d3-4215-ae99-5d22caaa0d8e",
   "metadata": {},
   "outputs": [],
   "source": [
    "dfRegion = pd.read_csv(r'D:\\MSIS\\Data Processing and Analysis in Python\\Homeworks\\HW4\\HW4_states_by_region.csv')\n",
    "dfCleanRegion = dfRegion.rename(columns = {\"State\" : \"STATE\", \"State Code\" : \"STATECODE\", \"Region\" : \"REGION\", \"Division\" : \"DIVISION\"})\n",
    "dfCleanRegion.drop(['DIVISION'], axis = 1, inplace = True)\n",
    "dfCleanRegion"
   ]
  },
  {
   "cell_type": "code",
   "execution_count": null,
   "id": "33d80fcd-eea1-4600-b442-2fdd7cb3eba5",
   "metadata": {},
   "outputs": [],
   "source": [
    "dfMerge = pd.merge(left = dfCleanCompany, right = dfCleanRegion, how = \"left\", left_on = [\"STATECODE\", \"STATE\"], right_on = [\"STATECODE\", \"STATE\"]) # To join the two datasets using left join\n",
    "dfMerge"
   ]
  },
  {
   "cell_type": "markdown",
   "id": "f06df0b6-2d2e-41e9-ad83-1f31ed04e891",
   "metadata": {},
   "source": [
    "## Case 4\n",
    "1. Provide Descriptive Statistics of Revenue.\n",
    "2. What percentage of companies founded prior to 2015 have achieved revenue of at least $50 million?\n",
    "3. Identify one inference you can make based on your observations."
   ]
  },
  {
   "cell_type": "markdown",
   "id": "dde12753-1da5-4788-b517-6feeb8fcd76c",
   "metadata": {},
   "source": [
    "### Steps for Case 4\n",
    "1. Filtering the two columns needed. \n",
    "2. After calculating the descriptive statistics of 'REVENUE', calculating the percentage of companies which achieved atleast 50 million"
   ]
  },
  {
   "cell_type": "code",
   "execution_count": null,
   "id": "af164c2b-e2a5-44ec-9050-c151c9d7fb4f",
   "metadata": {},
   "outputs": [],
   "source": [
    "revFound = dfMerge[[\"REVENUE\", \"FOUNDED\",\"REGION\", \"INDUSTRY\"]] # To filter the two columns that are needed\n",
    "revFound"
   ]
  },
  {
   "cell_type": "code",
   "execution_count": null,
   "id": "b47a9568-5a49-46e2-8a78-f2eed1cdc6e0",
   "metadata": {},
   "outputs": [],
   "source": [
    "print(\"------Descriptive Statistics------\\n\")\n",
    "\n",
    "print(f'Minimum Revenue:               \\t${np.amin(revFound[\"REVENUE\"])}')\n",
    "print(f'Maximum Revenue:               \\t${np.amax(revFound[\"REVENUE\"])}')\n",
    "print(f'Average Revenue:               \\t${np.mean(revFound[\"REVENUE\"]):.2f}')\n",
    "print(f'Median Revenue:                \\t${np.median(revFound[\"REVENUE\"])}')\n",
    "print(f'Standard Deviation of Revenue: \\t${np.std(revFound[\"REVENUE\"]):.2f}\\n')\n"
   ]
  },
  {
   "cell_type": "code",
   "execution_count": null,
   "id": "d6c42564-78a3-41e2-b21a-38205bb9f0f9",
   "metadata": {},
   "outputs": [],
   "source": [
    "mil50 = revFound[revFound[\"REVENUE\"] >= 50000000] # To filter out revenues greater than 50million\n",
    "noOfCompanies = len(mil50)\n",
    "noOfCompaniesT = len(revFound)\n",
    "\n",
    "perOfCompanies = (len(mil50) / len(revFound)) * 100 # To find percentage of companies having revenue more than 50million\n",
    "print(f'Percentage of companies founded prior to 2015 that have achieved revenue of at least $50 million: {perOfCompanies:.2f}%')"
   ]
  },
  {
   "cell_type": "code",
   "execution_count": null,
   "id": "cf1f5aac-7f60-4cc8-a686-779796264d53",
   "metadata": {},
   "outputs": [],
   "source": [
    "mil50.groupby(\"INDUSTRY\").count().sort_values(by = \"REVENUE\")"
   ]
  },
  {
   "cell_type": "markdown",
   "id": "e0ad0c51-3273-4c25-b1e3-19ec4220b712",
   "metadata": {},
   "source": [
    "### Inferences\n",
    "1. We see that only 13.62% companies have a revenue of $50 million who were found before 2015. Most of these companies were present in the South Region.\n",
    "2. We also see that the top 3 industries are Health, Financial Services and Logistics Transportation, Business and Construction all tied at the 3rd spot.\n",
    "3. We conclude that companies in these domains have the fastest growth and the Southern Region has had the maximum growth in terms of revenue."
   ]
  },
  {
   "cell_type": "markdown",
   "id": "0de63e1b-e1f6-424c-af3e-0ad0fc035dde",
   "metadata": {},
   "source": [
    "## Case 5 & 6\n",
    "1. Write a Python function with parameters of data frame, category, value, and a number that specifies the number of rows to display in the result. The function should return a data frame containing the top n rows of companies, based on revenues for a specific value in the category.\n",
    "2. Create data frames for each of the following:\n",
    "    a. The top fifteen overall companies\n",
    "    b. The top ten companies in the food and beverage industry \n",
    "    c. The top three companies located in New York City \n",
    "    d. The top five companies in Maryland "
   ]
  },
  {
   "cell_type": "markdown",
   "id": "2a229443-61c7-4166-b7bf-172d1e639937",
   "metadata": {},
   "source": [
    "### Steps for Case 5 & 6\n",
    "1. Creating a function which will return a dataframe with the given conditions.\n",
    "2. When 'category' and 'value', both, are present, creating a dataframe of the value from that category only.\n",
    "2. Otherwise, original dataframe continues."
   ]
  },
  {
   "cell_type": "code",
   "execution_count": null,
   "id": "e8d64f03-9fa9-40cb-9f0e-fef4136b1c6e",
   "metadata": {},
   "outputs": [],
   "source": [
    "def dfTopN(df, category = None, value = None, noRows = 10):\n",
    "    if category != None and value != None: # Condition to create dataframe only when category and value are present\n",
    "        topN = df[df[category] == value]\n",
    "\n",
    "    else:\n",
    "        topN = df\n",
    "          \n",
    "    topN.sort_values(by = ['REVENUE'], ascending = False, inplace = True) # To sort by descending revenues\n",
    "    \n",
    "    return topN.iloc[:noRows, :]"
   ]
  },
  {
   "cell_type": "code",
   "execution_count": null,
   "id": "800e3d56-c2b2-4e5a-90e0-7047752c0b39",
   "metadata": {},
   "outputs": [],
   "source": [
    "dfTopN(df = dfMerge, noRows = 15)"
   ]
  },
  {
   "cell_type": "code",
   "execution_count": null,
   "id": "070836e6-95ad-4cad-bfc4-65213741d012",
   "metadata": {},
   "outputs": [],
   "source": [
    "dfTopN(df = dfMerge, category = \"INDUSTRY\", value = \"Food & Beverage\")"
   ]
  },
  {
   "cell_type": "code",
   "execution_count": null,
   "id": "7b396f3c-f05e-4915-bc07-d5876107dd03",
   "metadata": {},
   "outputs": [],
   "source": [
    "dfTopN(df = dfMerge, category = \"CITY\", value = \"New York City\", noRows = 3)"
   ]
  },
  {
   "cell_type": "code",
   "execution_count": null,
   "id": "75942510-3fb7-43dd-b329-08cba90e4f31",
   "metadata": {},
   "outputs": [],
   "source": [
    "dfTopN(df = dfMerge, category = \"STATE\", value = \"Maryland\", noRows = 5)"
   ]
  },
  {
   "cell_type": "markdown",
   "id": "ea1518ac-ffa1-48a4-96e5-d95684dca710",
   "metadata": {},
   "source": [
    "## Case 7\n",
    "1. Awards will be given to companies in service industries based on their revenue. This includes any company who is in an industry with a \"Services\" name included as part of its industry. The top quarter of these companies will be given a Trailblazer award, while companies who didn't make the top quarter, but made the top half will be given a Pioneer award.\n",
    "2. For each company earning an award, provide a data frame showing the company, its rank, its revenue, and which award it will earn, sorted by revenue in descending order."
   ]
  },
  {
   "cell_type": "code",
   "execution_count": null,
   "id": "b00e0e44-2751-4ec6-bc56-11bfd943ec50",
   "metadata": {},
   "outputs": [],
   "source": [
    "# Counting number of Industry types which contain 'Services'\n",
    "service = dfMerge[dfMerge[\"INDUSTRY\"].str.contains(\"Services\")]\n",
    "service.sort_values(by = [\"REVENUE\"], ascending = False)\n",
    "noService = len(service)\n",
    "print(noService)"
   ]
  },
  {
   "cell_type": "code",
   "execution_count": null,
   "id": "b36c11a9-1c12-48a5-88f2-5e7f03289503",
   "metadata": {},
   "outputs": [],
   "source": [
    "service = service.reset_index() # Resetting the index to avoid setting the value according to 'Rank'\n",
    "service[\"AWARDS\"] = pd.Series([\"TrailBlazer\"] * (len(service)//4)) # Adding a column to the dataframe and adding 'Trailblazer' to first quarter\n",
    "service"
   ]
  },
  {
   "cell_type": "code",
   "execution_count": null,
   "id": "8fc0d16f-e265-4c50-9c9f-3f2c4420d815",
   "metadata": {},
   "outputs": [],
   "source": [
    "service.columns = ['RANK', 'URL', 'CITY', 'GROWTH', 'EMPLOYEES', 'COMPANY NAME',\n",
    "       'WEBSITE', 'STATE', 'STATECODE', 'REVENUE', 'ZIP CODE', 'FOUNDED',\n",
    "       'INDUSTRY', 'REGION', 'AWARDS']\n",
    "service.index = service['RANK'] # Setting index back to 'RANK'\n",
    "service.drop(\"RANK\", axis = 1, inplace =True)"
   ]
  },
  {
   "cell_type": "code",
   "execution_count": null,
   "id": "afa29921-d7cd-4444-a7a3-627bc0722299",
   "metadata": {},
   "outputs": [],
   "source": [
    "service = service.iloc[:(len(service)//2), :] # Filtering values upto half of the original dataframe\n",
    "service = service.fillna({'AWARDS':'Pioneer'}) # Replacing the null values with 'Pioneer'"
   ]
  },
  {
   "cell_type": "code",
   "execution_count": null,
   "id": "ff41d7c0-5c20-44c5-9d98-4922c746a8a3",
   "metadata": {},
   "outputs": [],
   "source": [
    "service"
   ]
  },
  {
   "cell_type": "markdown",
   "id": "ae80b602-fa4b-4b10-877b-4041551b7b72",
   "metadata": {},
   "source": [
    "## Case 8\n",
    "1. Doing your own Analysis"
   ]
  },
  {
   "cell_type": "code",
   "execution_count": null,
   "id": "afd5b3c6-ad9e-4337-9c67-4b8f30159d69",
   "metadata": {},
   "outputs": [],
   "source": [
    "dfStat = dfMerge[[\"GROWTH\", \"EMPLOYEES\", \"STATE\", \"REVENUE\", \"INDUSTRY\", \"REGION\"]]\n",
    "dfStat"
   ]
  },
  {
   "cell_type": "code",
   "execution_count": null,
   "id": "b246bfb8-e2b5-4c9d-a3e7-456c32f328e6",
   "metadata": {},
   "outputs": [],
   "source": [
    "dfStat1 = dfStat.copy()\n",
    "dfStat1.head(2)"
   ]
  },
  {
   "cell_type": "code",
   "execution_count": null,
   "id": "901e714a-23b1-41cf-a22a-fbcd120e0072",
   "metadata": {},
   "outputs": [],
   "source": [
    "# Making scatterplot to see the correlation between the two variables\n",
    "sns.relplot(y = \"REVENUE\", x = \"EMPLOYEES\", col = \"REGION\", data = dfStat1, kind = \"scatter\")"
   ]
  },
  {
   "cell_type": "code",
   "execution_count": null,
   "id": "485f2ea4-2776-42f2-a62c-6f2cb2ca43f5",
   "metadata": {},
   "outputs": [],
   "source": [
    "plt.ylim([0, 17500000000])\n",
    "plt.xlim([0, 160000])\n",
    "sns.regplot(y = \"REVENUE\", x = \"EMPLOYEES\", data = dfStat[dfStat1[\"REGION\"] == \"Midwest\"])"
   ]
  },
  {
   "cell_type": "code",
   "execution_count": null,
   "id": "f50785d0-f80d-466c-86a2-d7d3660c7eed",
   "metadata": {},
   "outputs": [],
   "source": [
    "plt.ylim([0, 17500000000])\n",
    "plt.xlim([0, 160000])\n",
    "sns.regplot(y = \"REVENUE\", x = \"EMPLOYEES\", data = dfStat[dfStat1[\"REGION\"] == \"West\"])"
   ]
  },
  {
   "cell_type": "code",
   "execution_count": null,
   "id": "068c397b-3abf-41a1-8a62-c24e3eaa5706",
   "metadata": {},
   "outputs": [],
   "source": [
    "plt.ylim([0, 17500000000])\n",
    "plt.xlim([0, 160000])\n",
    "sns.regplot(y = \"REVENUE\", x = \"EMPLOYEES\", data = dfStat[dfStat1[\"REGION\"] == \"South\"])"
   ]
  },
  {
   "cell_type": "code",
   "execution_count": null,
   "id": "c8ee7fdf-9bdf-422c-9952-751536a66d8d",
   "metadata": {},
   "outputs": [],
   "source": [
    "plt.ylim([0, 17500000000])\n",
    "plt.xlim([0, 160000])\n",
    "sns.regplot(y = \"REVENUE\", x = \"EMPLOYEES\", data = dfStat[dfStat1[\"REGION\"] == \"Northeast\"])"
   ]
  },
  {
   "cell_type": "markdown",
   "id": "a128dec9-27c3-4864-9912-a1b46e07252f",
   "metadata": {},
   "source": [
    "### Inferences\n",
    "1. From the first scatterplot, we can see that the employees and revenue are all cluttered in the corner. There are a few outliers present in all of the regions with Revenue and Employees.\n",
    "2. The next 4 plots depict the correlation between the Revenue and Employees. It contains the confidence interval which is depicted by the funnel. The plots have been scaled to the same scale.\n",
    "3. In the Midwest plot, we can that the two variables are correlated. We can also see that the number of employees as compared to the other regions is the lowest. The Revenue consists of one outlier. We can say that the growth of the companies in the Midwest Region is relatively fast. We can be confident that the company will definitely grow.\n",
    "4. The West plot's line is relatively flat. This is because the number of people working in West region is very high. We can observe that the Confidence Interval for the West region is very wide. This is also because of the larger number of employees. We can say that the growth of the companies is slow but we can be confident that the company will definitely grow.\n",
    "5. The South plot has a relatively scattered plot. But the trend line is relatively flat. This indicates that even with more number of employees, the revenue is not as high.\n",
    "6. The Northeast plot has a good growth as depicted in the graph. It consists f=of a few outliers towards the revenue side. This is because the Northeast Region is a business hub and consists of companies with higher revenues."
   ]
  },
  {
   "cell_type": "markdown",
   "id": "04d57bca-c068-4dcf-aff2-0afb22968c36",
   "metadata": {},
   "source": [
    "I pledge on my honor that I have not given nor received any unauthorized assistance on this assignment.\"\n",
    "#### --Parth Kodnani"
   ]
  }
 ],
 "metadata": {
  "kernelspec": {
   "display_name": "Python 3",
   "language": "python",
   "name": "python3"
  },
  "language_info": {
   "codemirror_mode": {
    "name": "ipython",
    "version": 3
   },
   "file_extension": ".py",
   "mimetype": "text/x-python",
   "name": "python",
   "nbconvert_exporter": "python",
   "pygments_lexer": "ipython3",
   "version": "3.8.8"
  }
 },
 "nbformat": 4,
 "nbformat_minor": 5
}
