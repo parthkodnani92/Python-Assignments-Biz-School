{
 "cells": [
  {
   "cell_type": "markdown",
   "id": "a9fd6241-c4b4-4ec4-97c8-3fbdf38e20c9",
   "metadata": {},
   "source": [
    "* Name: Parth Kodnani \n",
    "* Course: BUDT704 \n",
    "* Section: 0502\n",
    "* Date: 09/22/2021"
   ]
  },
  {
   "cell_type": "markdown",
   "id": "c149d08d-1534-496e-9f35-384e2d25c0ec",
   "metadata": {},
   "source": [
    "# Kickstarter Analysis using Arrays and NumPy"
   ]
  },
  {
   "cell_type": "markdown",
   "id": "05b46554-2556-44d7-8d4f-b8496b7fda7d",
   "metadata": {},
   "source": [
    "1. Kickstarter (https://www.kickstarter.com) has established itself as the leading platform for funding creative ventures. Aspiring entrepreneurs in the arts can initiate fundraising campaigns on Kickstarter to support their projects. \n",
    "2. Some projects have been hugely successful, whereas many others have fallen well short of their fundraising objectives. \n",
    "3. Each row in the attached file contains a summary of each campaign, including the goal and amount pledged, the state of the project in securing funding (e.g., successful, failed), the category of the project (i.e., type of art), and whether the project was featured via a staff pick or spotlight (i.e., on the Kickstarter home page)."
   ]
  },
  {
   "cell_type": "code",
   "execution_count": 55,
   "id": "1b294422-0f63-4f9a-887d-4a5dd807a0c9",
   "metadata": {},
   "outputs": [],
   "source": [
    "# Importing the necessary libraries\n",
    "\n",
    "import random\n",
    "import numpy as np\n",
    "import matplotlib.pyplot as plt\n",
    "import seaborn as sns"
   ]
  },
  {
   "cell_type": "markdown",
   "id": "3e784979-f8aa-46f7-85a2-cae38aa55161",
   "metadata": {},
   "source": [
    "## Case 1\n",
    "Load the amount pledged (in U.S. dollars) data across all projects."
   ]
  },
  {
   "cell_type": "markdown",
   "id": "41c9d007-b9da-4958-bc1e-b3fea43ef192",
   "metadata": {},
   "source": [
    "#### Steps for Case 1\n",
    "1. Using the 'usecols' parameter to only include the 'Amount Pledged in USD' column.\n",
    "2. Skipping the first row because it contains text."
   ]
  },
  {
   "cell_type": "code",
   "execution_count": 8,
   "id": "ea2d2262-ab46-4d00-91ff-11c930c919b2",
   "metadata": {},
   "outputs": [
    {
     "name": "stdout",
     "output_type": "stream",
     "text": [
      "[ 321.         857.0681028 4431.12      ...   50.         220.2370882\n",
      "  155.       ]\n"
     ]
    }
   ],
   "source": [
    "# Loading the data for 'Amount Pledged'\n",
    "amtPledged = np.loadtxt(r\"HW3_kickstarter.csv\", usecols = 11, skiprows = 1, delimiter = ',')\n",
    "print(amtPledged)"
   ]
  },
  {
   "cell_type": "markdown",
   "id": "6afec310-16e9-4012-8b0f-68e89ff7af83",
   "metadata": {},
   "source": [
    "## Case 2\n",
    "Display descriptive statistics that include:\n",
    "1. Total number of projects\n",
    "2. Amount pledged (in U.S. dollars): min, max, mean, median, and standard deviation\n",
    "3. Percentage of projects that earned total pledges of at least $2,500"
   ]
  },
  {
   "cell_type": "code",
   "execution_count": 383,
   "id": "b5b28c36-8d6a-420a-aae9-ba3922d764bb",
   "metadata": {},
   "outputs": [
    {
     "name": "stdout",
     "output_type": "stream",
     "text": [
      "------Descriptive Statistics------\n",
      "\n",
      "The total number of projects:  4184 \n",
      "\n",
      "Minimum amount pledged:               \t$0.0\n",
      "Maximum amount pledged:               \t$111111.77\n",
      "Average amount pledged:               \t$1242.12\n",
      "Median amount pledged:                \t$90.0\n",
      "Standard Deviation of amount pledged: \t$5177.93\n",
      "\n",
      "Percentage of projects that earned total pledges of at least $2,500: \t10.59%\n"
     ]
    }
   ],
   "source": [
    "gAmt = (amtPledged>=2500) # Filtering values greater than and equal to $2500\n",
    "print(\"------Descriptive Statistics------\\n\")\n",
    "\n",
    "noOfProj = len(amtPledged)\n",
    "print('The total number of projects: ',  noOfProj, '\\n')\n",
    "\n",
    "print(f'Minimum amount pledged:               \\t${np.amin(amtPledged)}')\n",
    "print(f'Maximum amount pledged:               \\t${np.amax(amtPledged)}')\n",
    "print(f'Average amount pledged:               \\t${np.mean(amtPledged):.2f}')\n",
    "print(f'Median amount pledged:                \\t${np.median(amtPledged)}')\n",
    "print(f'Standard Deviation of amount pledged: \\t${np.std(amtPledged):.2f}\\n')\n",
    "\n",
    "valProj = len(np.where(gAmt)[0]) # Adding all the amounts greater than and equal to $2500\n",
    "perProj = (valProj/noOfProj)*100\n",
    "print(f'Percentage of projects that earned total pledges of at least $2,500: \\t{perProj:.2f}%')"
   ]
  },
  {
   "cell_type": "markdown",
   "id": "5ae19c69-bd35-41b7-a523-dc1cae3d9cc5",
   "metadata": {},
   "source": [
    "## Case 3\n",
    "Load the project categories data."
   ]
  },
  {
   "cell_type": "markdown",
   "id": "d935de7d-b07b-44dd-9510-b15be9999d0a",
   "metadata": {},
   "source": [
    "#### Steps for Case 3\n",
    "1. Using the 'usecols' parameter to only include the 'Project Categories' column.\n",
    "2. Skipping the first row because it contains column header.\n",
    "3. Using 'dtype' as 'str' because data contains characters."
   ]
  },
  {
   "cell_type": "code",
   "execution_count": 25,
   "id": "f1879920-6bd8-40b8-ac28-4f3cf06f7fd9",
   "metadata": {},
   "outputs": [
    {
     "name": "stdout",
     "output_type": "stream",
     "text": [
      "['Conceptual Art' 'Conceptual Art' 'Conceptual Art' ... 'Painting'\n",
      " 'Painting' 'Painting']\n"
     ]
    }
   ],
   "source": [
    "projCategories = np.loadtxt(r\"HW3_kickstarter.csv\", dtype = 'str', usecols = 12, skiprows = 1, delimiter = ',')\n",
    "print(projCategories)"
   ]
  },
  {
   "cell_type": "markdown",
   "id": "175e80f1-0c74-4de0-bf22-8b5df22483c8",
   "metadata": {},
   "source": [
    "## Case 4\n",
    "1. Determine the frequency of each category and the proportion (percentage) of observations for each category. \n",
    "2. Display a bar chart showing a title, the categories, and percentages, properly labeled and formatted."
   ]
  },
  {
   "cell_type": "markdown",
   "id": "d320eae7-0c57-4a72-91f6-72ea1ee2bda3",
   "metadata": {},
   "source": [
    "#### Steps for Case 4\n",
    "1. Using 'unique()' function to return the unique values in the data.\n",
    "2. Using 'return_counts()' parameter to return the count of values corresponding to that particular category.\n",
    "3. Calculating the proportion of every category in the data.\n",
    "4. Visualizing this proportion using 'plt.bar()' function."
   ]
  },
  {
   "cell_type": "code",
   "execution_count": 301,
   "id": "32dd43dd-3cd1-4582-8b42-d7bbf7fe9d39",
   "metadata": {},
   "outputs": [
    {
     "name": "stdout",
     "output_type": "stream",
     "text": [
      "Project Categories:      ['Ceramics' 'Conceptual Art' 'Digital Art' 'Illustration' 'Painting']\n",
      "Frequency of Categories: [ 204  879 1054  461 1586]\n",
      "\n",
      "Proportion of each Category (percentage): [4.88, 21.01, 25.19, 11.02, 37.91]\n"
     ]
    }
   ],
   "source": [
    "cat, count = np.unique(projCategories, return_counts = True) # Returns unique categories and their respective counts\n",
    "print(f'Project Categories:      {cat}')\n",
    "print(f'Frequency of Categories: {count}\\n')\n",
    "\n",
    "proportion = []\n",
    "for i in count:\n",
    "    proportion.append((i/noOfProj)*100) # Calculating proportion and appending to the list\n",
    "\n",
    "roundProportion = [round(num, 2) for num in proportion]\n",
    "    \n",
    "print(f'Proportion of each Category (percentage): {roundProportion}')"
   ]
  },
  {
   "cell_type": "code",
   "execution_count": 303,
   "id": "f14bbb76-8f52-4d04-9dae-414314987381",
   "metadata": {},
   "outputs": [
    {
     "name": "stdout",
     "output_type": "stream",
     "text": [
      "<BarContainer object of 5 artists>\n"
     ]
    },
    {
     "data": {
      "image/png": "[encoded data removed]",
      "text/plain": [
       "<Figure size 432x288 with 1 Axes>"
      ]
     },
     "metadata": {
      "needs_background": "light"
     },
     "output_type": "display_data"
    }
   ],
   "source": [
    "plot = plt.bar(cat, height = roundProportion, color = ['#ADD8E6', '#6495ED', '#1F51FF', '#89CFF0', '#191970']) # Adding color to every bar to distinguish from each other\n",
    "plt.title('Percentage of each Category')\n",
    "plt.xlabel('Categories')\n",
    "plt.ylabel('Percentage (%)')\n",
    "print(plot)\n",
    "for p in plot: # Looping through bars to add value labels\n",
    "   height = p.get_height()\n",
    "   plt.annotate(\n",
    "       '{}'.format(height),\n",
    "       xy = (p.get_x() + p.get_width() / 2, height),\n",
    "       xytext = (0, 0),\n",
    "       textcoords = \"offset points\",\n",
    "       ha = 'center', va = 'bottom')"
   ]
  },
  {
   "cell_type": "markdown",
   "id": "122eede4-2c8b-4440-b429-0d01c7c88dc5",
   "metadata": {},
   "source": [
    "## Case 5\n",
    "Identify two inferences you can make about the various categories. "
   ]
  },
  {
   "cell_type": "markdown",
   "id": "7dfaae97-658f-45df-9d89-2581338d526b",
   "metadata": {},
   "source": [
    "#### Inferences\n",
    "1. Painting projects have the highest proportion, i.e. 37.91%, whereas Ceramics projects have the least, i.e. 4.88% out of all the different types of creative ventures. \n",
    "2. The top 3 categories, i.e. Painting, Conceptual Art and Digital Art Projects, have around 84% of the total projects. "
   ]
  },
  {
   "cell_type": "markdown",
   "id": "fb73d53d-8346-4e00-abd7-378264fd32a9",
   "metadata": {},
   "source": [
    "## Case 6\n",
    "Load the project states data."
   ]
  },
  {
   "cell_type": "markdown",
   "id": "ff88a778-0fc6-406d-ae10-270f96c4c733",
   "metadata": {},
   "source": [
    "#### Steps for Case 6\n",
    "1. Using the 'usecols' parameter to only include the 'Project States' column.\n",
    "2. Skipping the first row because it contains column header.\n",
    "3. Using 'dtype' as 'str' because data contains characters."
   ]
  },
  {
   "cell_type": "code",
   "execution_count": 126,
   "id": "2de2abbf-80b5-499e-a8dc-3e1c5ac72e9d",
   "metadata": {},
   "outputs": [
    {
     "name": "stdout",
     "output_type": "stream",
     "text": [
      "['successful' 'successful' 'successful' ... 'failed' 'failed' 'failed']\n"
     ]
    }
   ],
   "source": [
    "projStates = np.loadtxt(r\"HW3_kickstarter.csv\", dtype = 'str', usecols = 4, skiprows = 1, delimiter = ',')\n",
    "print(projStates)"
   ]
  },
  {
   "cell_type": "markdown",
   "id": "6b96b0a4-068b-49a5-89b4-e2b18d510d99",
   "metadata": {},
   "source": [
    "## Case 7\n",
    "1. For each project category, calculate the proportion (percentage) of projects that were successful. \n",
    "2. Display a bar chart showing a title, the categories, and their success percentages, properly labeled and formatted. \n",
    "3. Which project category was the least and most successful (on average)?"
   ]
  },
  {
   "cell_type": "markdown",
   "id": "44f0a5f3-d085-4c8d-953c-4a2c3617c1c9",
   "metadata": {},
   "source": [
    "#### Steps for Case 7\n",
    "1. Initializing empty lists for storing the number of successful projects.\n",
    "2. Adding successful projects to these empty lists for their respective categories.\n",
    "3. Calculating success percentage of every category.\n",
    "4. Visulaizing a bar chart to plot these percentages.\n",
    "5. Making inferences about this visualization."
   ]
  },
  {
   "cell_type": "code",
   "execution_count": 373,
   "id": "6e6c0d1c-98eb-4ba6-9182-882b8bd97ca1",
   "metadata": {},
   "outputs": [
    {
     "name": "stdout",
     "output_type": "stream",
     "text": [
      "Proportion of Successful Ceramics:       41.18%\n",
      "Proportion of Successful Conceptual Art: 36.63%\n",
      "Proportion of Successful Digital Art:    27.13%\n",
      "Proportion of Successful Illustration:   0.0%\n",
      "Proportion of Successful Painting:       0.0%\n"
     ]
    }
   ],
   "source": [
    "# Initializing empty lists to store successful projects\n",
    "cerSuc = []\n",
    "conSuc = []\n",
    "digSuc = []\n",
    "illSuc = []\n",
    "panSuc = []\n",
    "\n",
    "# Adding successful projects to their respective categories\n",
    "for i in range(len(projCategories)):\n",
    "    if projCategories[i] == 'Ceramics':\n",
    "        if projStates[i] == 'successful':\n",
    "            cerSuc.append(projStates[i])\n",
    "\n",
    "for i in range(len(projCategories)):\n",
    "    if projCategories[i] == 'Conceptual Art':\n",
    "        if projStates[i] == 'successful':\n",
    "            conSuc.append(projStates[i])\n",
    "\n",
    "for i in range(len(projCategories)):\n",
    "    if projCategories[i] == 'Digital Art':\n",
    "        if projStates[i] == 'successful':\n",
    "            digSuc.append(projStates[i])\n",
    "\n",
    "for i in range(len(projCategories)):\n",
    "    if projCategories[i] == 'Illustration':\n",
    "        if projStates[i] == 'successful':\n",
    "            illSuc.append(projStates[i])\n",
    "\n",
    "for i in range(len(projCategories)):\n",
    "    if projCategories[i] == 'Painting':\n",
    "        if projStates[i] == 'successful':\n",
    "            panSuc.append(projStates[i])\n",
    "\n",
    "# Finding percentage for every categories' successful projects\n",
    "cerPer = round((len(cerSuc)/count[0]*100),2)\n",
    "conPer = round((len(conSuc)/count[1]*100),2)\n",
    "digPer = round((len(digSuc)/count[2]*100),2)\n",
    "illPer = round((len(illSuc)/count[3]*100),2)\n",
    "panPer = round((len(panSuc)/count[4]*100),2)\n",
    "\n",
    "proportionSuc = [cerPer, conPer, digPer, illPer, panPer] # Making a list of percentages of successful projects of every category\n",
    "      \n",
    "print(f'Proportion of Successful Ceramics:       {cerPer}%')\n",
    "print(f'Proportion of Successful Conceptual Art: {conPer}%')\n",
    "print(f'Proportion of Successful Digital Art:    {digPer}%')\n",
    "print(f'Proportion of Successful Illustration:   {illPer}%')\n",
    "print(f'Proportion of Successful Painting:       {panPer}%')"
   ]
  },
  {
   "cell_type": "code",
   "execution_count": 300,
   "id": "85ae97fe-f6a9-4bc0-81b6-890c19ece478",
   "metadata": {},
   "outputs": [
    {
     "name": "stdout",
     "output_type": "stream",
     "text": [
      "<BarContainer object of 5 artists>\n"
     ]
    },
    {
     "data": {
      "image/png": "[encoded data removed]",
      "text/plain": [
       "<Figure size 432x288 with 1 Axes>"
      ]
     },
     "metadata": {
      "needs_background": "light"
     },
     "output_type": "display_data"
    }
   ],
   "source": [
    "plotSuc = plt.bar(cat, height = proportionSuc, color = ['#ADD8E6', '#6495ED', '#1F51FF'])\n",
    "plt.title('Percentage of Successful Projects in each Category')\n",
    "plt.xlabel('Categories')\n",
    "plt.ylabel('Percentage (%)')\n",
    "print(plotSuc)\n",
    "for p in plotSuc: # Looping through bars to add value labels\n",
    "   height = p.get_height()\n",
    "   plt.annotate(\n",
    "       '{}'.format(height),\n",
    "       xy = (p.get_x() + p.get_width() / 2, height),\n",
    "       xytext = (0, 0),\n",
    "       textcoords = \"offset points\",\n",
    "       ha = 'center', va = 'bottom')"
   ]
  },
  {
   "cell_type": "markdown",
   "id": "c7204bef-bbb2-4aff-be38-63613b4cd001",
   "metadata": {},
   "source": [
    "#### Inferences\n",
    "1. Ceramics category had the most successful projects with a percentage of 41.18%.\n",
    "2. Illustration and Painting categories have 0 successful projects. "
   ]
  },
  {
   "cell_type": "markdown",
   "id": "6927eb74-2242-4c7a-81f7-51eef0b8c02e",
   "metadata": {},
   "source": [
    "## Case 8\n",
    "Load the staff pick and spotlight data.\n"
   ]
  },
  {
   "cell_type": "markdown",
   "id": "0ffdaf9d-9d03-47bf-9996-ef2de4ef0d8f",
   "metadata": {},
   "source": [
    "#### Steps for Case 8\n",
    "1. Using the 'usecols' parameter to only include the 'Staff Pick' and 'Spotlight' column.\n",
    "2. Skipping the first row because it contains column header.\n",
    "3. Using 'dtype' as 'str' because data contains characters."
   ]
  },
  {
   "cell_type": "code",
   "execution_count": 154,
   "id": "2f6e787d-77f3-4c05-933c-54795e7491e3",
   "metadata": {},
   "outputs": [
    {
     "name": "stdout",
     "output_type": "stream",
     "text": [
      "['FALSE' 'FALSE' 'FALSE' ... 'FALSE' 'FALSE' 'FALSE']\n",
      "['TRUE' 'TRUE' 'TRUE' ... 'FALSE' 'FALSE' 'FALSE']\n"
     ]
    }
   ],
   "source": [
    "staffPick = np.loadtxt(r\"HW3_kickstarter.csv\", dtype = 'str', usecols = 8, skiprows = 1, delimiter = ',')\n",
    "spotlight = np.loadtxt(r\"HW3_kickstarter.csv\", dtype = 'str', usecols = 13, skiprows = 1, delimiter = ',')\n",
    "print(staffPick)\n",
    "print(spotlight)"
   ]
  },
  {
   "cell_type": "markdown",
   "id": "273115c9-ec1a-4ca5-8e4f-887d41227f80",
   "metadata": {},
   "source": [
    "## Case 9\n",
    "1. Determine the total number of projects identified as staff picks and the total number of projects identified as spotlight projects.\n",
    "2. For each of these two project classifications, what was the success rate (percentage) of each?"
   ]
  },
  {
   "cell_type": "markdown",
   "id": "6d6c3f4d-d24d-42f9-8bf7-cd5a0ed5d02a",
   "metadata": {},
   "source": [
    "#### Steps for Case 9\n",
    "1. Finding the total number of projects for the 'Staff Pick' and 'Spotlight' feature.\n",
    "2. Adding the successful projects to their respective categories.\n",
    "3. Finding the percentage of successful projects."
   ]
  },
  {
   "cell_type": "code",
   "execution_count": 269,
   "id": "d01b97f0-486e-48e6-8c94-cd47e762ce08",
   "metadata": {},
   "outputs": [
    {
     "name": "stdout",
     "output_type": "stream",
     "text": [
      "Total Number of Projects identified as Staff Picks: 224\n",
      "Total Number of Projects identified as Spotlight:   692\n"
     ]
    }
   ],
   "source": [
    "# Initializing empty lists to store 'Staff Pick' and 'Spotlight' projects\n",
    "staffPickT = []\n",
    "spotlightT = []\n",
    "\n",
    "# Appending projects to their respective categories\n",
    "for i in range(len(staffPick)):\n",
    "    if staffPick[i] == 'TRUE':\n",
    "        staffPickT.append(i)        \n",
    "for i in range(len(spotlight)):\n",
    "    if spotlight[i] == 'TRUE':\n",
    "        spotlightT.append(i)\n",
    "        \n",
    "print(f'Total Number of Projects identified as Staff Picks: {len(staffPickT)}')\n",
    "print(f'Total Number of Projects identified as Spotlight:   {len(spotlightT)}')"
   ]
  },
  {
   "cell_type": "code",
   "execution_count": 375,
   "id": "ed40478a-59ec-4af6-b230-31a1aa9ecaca",
   "metadata": {},
   "outputs": [
    {
     "name": "stdout",
     "output_type": "stream",
     "text": [
      "Number of Projects identified as Staff Picks which were successful: 163\n",
      "Number of Projects identified as Spotlight which were successful:   692\n"
     ]
    }
   ],
   "source": [
    "# Initializing empty lists to store 'Staff Pick' and 'Spotlight' projects which were successful in receiving funding\n",
    "staffPickSuc = []\n",
    "spotlightSuc = []\n",
    "\n",
    "# Appending projects to their respective categories\n",
    "for i in range(len(staffPick)):\n",
    "    if staffPick[i] == 'TRUE':\n",
    "        if projStates[i] == 'successful':\n",
    "            staffPickSuc.append(staffPick[i])\n",
    "        \n",
    "for i in range(len(spotlight)):\n",
    "    if spotlight[i] == 'TRUE':\n",
    "        if projStates[i] == 'successful':\n",
    "            spotlightSuc.append(spotlight[i])\n",
    "\n",
    "# Finding percentage of successful projects for respective feature\n",
    "staffPickPer = len(staffPickSuc)/len(staffPickT)*100\n",
    "spotlightPer = len(spotlightSuc)/len(spotlightT)*100\n",
    "\n",
    "print(f'Number of Projects identified as Staff Picks which were successful: {len(staffPickSuc)}')\n",
    "print(f'Number of Projects identified as Spotlight which were successful:   {len(spotlightSuc)}')"
   ]
  },
  {
   "cell_type": "markdown",
   "id": "bfc437ad-3a85-4952-91d3-6b9ace7e235e",
   "metadata": {},
   "source": [
    "## Case 10\n",
    "1. Which feature (staff pick or spotlight) is associated with a higher percentage of successful projects?\n",
    "2. What inference can you make from the data to explain why one of the features has a higher percentage of successful projects?"
   ]
  },
  {
   "cell_type": "markdown",
   "id": "a326895b-bbca-4def-8f09-0fcfda13acfe",
   "metadata": {},
   "source": [
    "#### Steps for Case 10\n",
    "1. Checking to see which feature has higher number of successful projects."
   ]
  },
  {
   "cell_type": "code",
   "execution_count": 289,
   "id": "0ae54598-4763-48e7-a844-77cd72a7846e",
   "metadata": {},
   "outputs": [
    {
     "name": "stdout",
     "output_type": "stream",
     "text": [
      "Percentage of successful projects of Staff Pick Feature: 72.77%\n",
      "Percentage of successful projects of Spotlight Feature:  100.00%\n",
      "\n",
      "The Spotlight feature has a higher percentage of successful projects.\n"
     ]
    }
   ],
   "source": [
    "print(f'Percentage of successful projects of Staff Pick Feature: {staffPickPer:.2f}%')\n",
    "print(f'Percentage of successful projects of Spotlight Feature:  {spotlightPer:.2f}%\\n')\n",
    "\n",
    "# Comparing each feature's percentage to check which is higher \n",
    "if staffPickPer > spotlightPer:\n",
    "    print(f'The Staff Pick feature has a higher percentage of successful projects.')\n",
    "else:\n",
    "    print(f'The Spotlight feature has a higher percentage of successful projects.')"
   ]
  },
  {
   "cell_type": "markdown",
   "id": "a0913434-a021-4637-8468-9ae4aada915e",
   "metadata": {},
   "source": [
    "#### Inferences\n",
    "Spotlight Feature has 100% successful rate because the successful projects from all categories have the spotlight feature."
   ]
  },
  {
   "cell_type": "markdown",
   "id": "24b30d77-3911-47ea-ac19-c9b781468a64",
   "metadata": {},
   "source": [
    "## Case 11\n",
    "Using data already loaded and/or loading more data of your choice, create a visualization of your choice, and make at least one inference from your analysis."
   ]
  },
  {
   "cell_type": "markdown",
   "id": "a83eb53a-2694-485c-85fb-f007e54d35fc",
   "metadata": {},
   "source": [
    "#### Steps for Case 11\n",
    "1. Loading the 'Goal' and 'Pledged' columns.\n",
    "2. Calculating Descriptive Statistics for both the columns.\n",
    "3. Creating two empty lists to store which amount is greater.\n",
    "4. Counting the elements in the two lists and calculating their percentages.\n",
    "5. Visualizing these percentages on bar graph.\n",
    "6. Checking which categories had more amount pledged than their goal amount.\n",
    "7. Visualizing these numbers on bar graph."
   ]
  },
  {
   "cell_type": "code",
   "execution_count": 339,
   "id": "6b61babc-4dde-40a1-b32b-9b319cc059ef",
   "metadata": {},
   "outputs": [
    {
     "name": "stdout",
     "output_type": "stream",
     "text": [
      "Descriptive Statistics of Goal Amount and Amount Pledged: \n",
      "Minimum goal:              $0.01\n",
      "Minimum amount pledged:    $0.00\n",
      "Maximum goal:              $100000000.00\n",
      "Maximum amount pledged:    $240351.91\n",
      "Total Goal Amount:         $182584875.86\n",
      "Total Pledged Amount:      $5601211.12\n",
      "\n"
     ]
    }
   ],
   "source": [
    "goal = np.loadtxt(r\"HW3_kickstarter.csv\", usecols = 2, skiprows = 1, delimiter = ',')\n",
    "pledged = np.loadtxt(r\"HW3_kickstarter.csv\", usecols = 3, skiprows = 1, delimiter = ',')\n",
    "true = []\n",
    "false = []\n",
    "\n",
    "print(\"Descriptive Statistics of Goal Amount and Amount Pledged: \")\n",
    "print(f'Minimum goal:              ${np.amin(goal):.2f}')\n",
    "print(f'Minimum amount pledged:    ${np.amin(pledged):.2f}')\n",
    "print(f'Maximum goal:              ${np.amax(goal):.2f}')\n",
    "print(f'Maximum amount pledged:    ${np.amax(pledged):.2f}')\n",
    "print(f'Total Goal Amount:         ${np.sum(goal):.2f}')\n",
    "print(f'Total Pledged Amount:      ${np.sum(pledged):.2f}\\n')"
   ]
  },
  {
   "cell_type": "code",
   "execution_count": 340,
   "id": "76fb1778-41e8-4c4c-9970-75dc9b26fc46",
   "metadata": {},
   "outputs": [
    {
     "name": "stdout",
     "output_type": "stream",
     "text": [
      "Number of projects where Amount Pledged was greater than Goal Amount:         675\n",
      "Number of projects where Amount Pledged was not greater than Goal Amount:     3509\n",
      "Percentage of projects where Amount Pledged was greater than Goal Amount:     16.13%\n",
      "Percentage of projects where Amount Pledged was not greater than Goal Amount: 83.87%\n"
     ]
    }
   ],
   "source": [
    "for i in pledged > goal: # Checking if amount pledged is greater or goal is greater\n",
    "    if i == True:\n",
    "        true.append(i)\n",
    "    elif i == False:\n",
    "        false.append(i)\n",
    "\n",
    "truePer = round((len(true)/noOfProj*100), 2)\n",
    "falsePer = round((len(false)/noOfProj*100), 2)\n",
    "trueFalseL = [truePer, falsePer]\n",
    "\n",
    "tfCategory = ['Goal Amount Pledged', 'Goal Amount not Pledged']\n",
    "\n",
    "print(f'Number of projects where Amount Pledged was greater than Goal Amount:         {len(true)}')\n",
    "print(f'Number of projects where Amount Pledged was not greater than Goal Amount:     {len(false)}')\n",
    "print(f'Percentage of projects where Amount Pledged was greater than Goal Amount:     {truePer:.2f}%')\n",
    "print(f'Percentage of projects where Amount Pledged was not greater than Goal Amount: {falsePer:.2f}%')"
   ]
  },
  {
   "cell_type": "code",
   "execution_count": 371,
   "id": "092485cb-ddf7-43cd-b8ae-a7473894056d",
   "metadata": {},
   "outputs": [
    {
     "name": "stdout",
     "output_type": "stream",
     "text": [
      "<BarContainer object of 2 artists>\n"
     ]
    },
    {
     "data": {
      "image/png": "[encoded data removed]",
      "text/plain": [
       "<Figure size 432x288 with 1 Axes>"
      ]
     },
     "metadata": {
      "needs_background": "light"
     },
     "output_type": "display_data"
    }
   ],
   "source": [
    "trueFalseBar = plt.bar(tfCategory, height = trueFalseL, color = ['#6495ED', '#191970'], width = 0.3)\n",
    "plt.title('Percentage of Projects wrt Goal Amount')\n",
    "plt.xlabel('Categories')\n",
    "plt.ylabel('Percentage (%)')\n",
    "print(trueFalseBar)\n",
    "\n",
    "for p in trueFalseBar: # Looping through bars to add value labels\n",
    "   height = p.get_height()\n",
    "   plt.annotate(\n",
    "       '{}'.format(height),\n",
    "       xy = (p.get_x() + p.get_width() / 2, height),\n",
    "       xytext = (0, 0),\n",
    "       textcoords = \"offset points\",\n",
    "       ha = 'center', va = 'bottom')"
   ]
  },
  {
   "cell_type": "code",
   "execution_count": 360,
   "id": "eff10812-ba40-4084-8467-1823e837cd82",
   "metadata": {},
   "outputs": [
    {
     "name": "stdout",
     "output_type": "stream",
     "text": [
      "Number of Projects where Amount Pledged is greater than Goal Amount and Category is Ceramic:        0\n",
      "Number of Projects where Amount Pledged is greater than Goal Amount and Category is Conceptual Art: 100\n",
      "Number of Projects where Amount Pledged is greater than Goal Amount and Category is Digital Art:    575\n",
      "Number of Projects where Amount Pledged is greater than Goal Amount and Category is Illustration:   0\n",
      "Number of Projects where Amount Pledged is greater than Goal Amount and Category is Painting:       0\n"
     ]
    }
   ],
   "source": [
    "# Initializing empty lists to store 'Staff Pick' and 'Spotlight' projects which were successful in receiving funding\n",
    "tCer = []\n",
    "tCon = []\n",
    "tDig = []\n",
    "tIll = []\n",
    "tPan = []\n",
    "\n",
    "# Appending projects to their respective categories\n",
    "for i in range(len(true)):\n",
    "    if projCategories[i] == 'Ceramics':\n",
    "        tCer.append(true[i])\n",
    "    if projCategories[i] == 'Conceptual Art':\n",
    "        tCon.append(true[i])\n",
    "    if projCategories[i] == 'Digital Art':\n",
    "        tDig.append(true[i])\n",
    "    if projCategories[i] == 'Illustration':\n",
    "        tIll.append(true[i])\n",
    "    if projCategories[i] == 'Painting':\n",
    "        tPan.append(true[i])\n",
    "\n",
    "tCatList = [len(tCer), len(tCon), len(tDig), len(tIll), len(tPan)]\n",
    "\n",
    "print(f'Number of Projects where Amount Pledged is greater than Goal Amount and Category is Ceramic:        {len(tCer)}')\n",
    "print(f'Number of Projects where Amount Pledged is greater than Goal Amount and Category is Conceptual Art: {len(tCon)}')\n",
    "print(f'Number of Projects where Amount Pledged is greater than Goal Amount and Category is Digital Art:    {len(tDig)}')\n",
    "print(f'Number of Projects where Amount Pledged is greater than Goal Amount and Category is Illustration:   {len(tIll)}')\n",
    "print(f'Number of Projects where Amount Pledged is greater than Goal Amount and Category is Painting:       {len(tPan)}')"
   ]
  },
  {
   "cell_type": "code",
   "execution_count": 381,
   "id": "af7ea0ba-9926-4d6b-9704-53813e940e31",
   "metadata": {},
   "outputs": [
    {
     "name": "stdout",
     "output_type": "stream",
     "text": [
      "<BarContainer object of 2 artists>\n"
     ]
    },
    {
     "data": {
      "image/png": "[encoded data removed]",
      "text/plain": [
       "<Figure size 432x288 with 1 Axes>"
      ]
     },
     "metadata": {
      "needs_background": "light"
     },
     "output_type": "display_data"
    }
   ],
   "source": [
    "tCatBar = plt.bar(cat, height = tCatList, color = ['#1F51FF', '#6495ED'])\n",
    "plt.title('Number and Categories of Projects wrt Goal Amount')\n",
    "plt.xlabel('Categories')\n",
    "plt.ylabel('Number of Projects')\n",
    "print(trueFalseBar)\n",
    "\n",
    "for p in tCatBar: # Looping through bars to add value labels\n",
    "   height = p.get_height()\n",
    "   plt.annotate(\n",
    "       '{}'.format(height),\n",
    "       xy = (p.get_x() + p.get_width() / 2, height),\n",
    "       xytext = (0, 0),\n",
    "       textcoords = \"offset points\",\n",
    "       ha = 'center', va = 'bottom')"
   ]
  },
  {
   "cell_type": "markdown",
   "id": "6ccb4d94-ba65-4e7d-a7c9-5d5071c43bc9",
   "metadata": {},
   "source": [
    "#### Inferences\n",
    "1. Out of all the projects, only 675 projects, i.e. 16.13% projects got more amount than their goal pledged. The rest 3509 projects did not receive the amount they expected.\n",
    "2. These 675 projects have also been distributed only through the 'Conceptual Art' and 'Digital Art' Categories. No other categories received funding greater than their goal amount. \n",
    "3. We can infer that Conceptual Art and Digital Art Categories are more in demand and people will pay more for projects of these categories."
   ]
  },
  {
   "cell_type": "markdown",
   "id": "99904ec7-3599-4942-9193-93d6c9330749",
   "metadata": {},
   "source": [
    "\"I pledge on my honor that I have not given nor received any unauthorized assistance on this assignment.\"\n",
    "#### --Parth Kodnani"
   ]
  }
 ],
 "metadata": {
  "kernelspec": {
   "display_name": "Python 3",
   "language": "python",
   "name": "python3"
  },
  "language_info": {
   "codemirror_mode": {
    "name": "ipython",
    "version": 3
   },
   "file_extension": ".py",
   "mimetype": "text/x-python",
   "name": "python",
   "nbconvert_exporter": "python",
   "pygments_lexer": "ipython3",
   "version": "3.8.8"
  }
 },
 "nbformat": 4,
 "nbformat_minor": 5
}
