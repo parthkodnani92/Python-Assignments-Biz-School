{
 "cells": [
  {
   "cell_type": "markdown",
   "id": "dc28be1e-408a-4462-a624-e96cf9f95611",
   "metadata": {},
   "source": [
    "* Name: Parth Kodnani \n",
    "* Course: BUDT704 \n",
    "* Section: 0502\n",
    "* Date: 11/05/2021"
   ]
  },
  {
   "cell_type": "markdown",
   "id": "81a876b0-61a4-4e99-88ec-96f9f45af35e",
   "metadata": {},
   "source": [
    "# Socially Responsible ETF Analysis "
   ]
  },
  {
   "cell_type": "code",
   "execution_count": null,
   "id": "fa796de1-0f52-43f9-88b9-6bbfa78d9f84",
   "metadata": {},
   "outputs": [],
   "source": [
    "# Importing the necessary libraries\n",
    "\n",
    "import numpy as np\n",
    "import pandas as pd\n",
    "import re\n",
    "from numpy import nan"
   ]
  },
  {
   "cell_type": "markdown",
   "id": "e8a3b216-4187-4c54-94c4-8956b312d551",
   "metadata": {},
   "source": [
    "### Case 1\n",
    "1. Load the data from the file into a data frame. \n",
    "2. Convert any missing values into NaN. \n",
    "3. Print a data frame containing the first 20 funds, including all data known about them. "
   ]
  },
  {
   "cell_type": "code",
   "execution_count": null,
   "id": "6ae82bc3-40bc-4efb-86df-6f796951776a",
   "metadata": {},
   "outputs": [],
   "source": [
    "dfETF = pd.read_excel(r'HW5_Socially Responsible ETFs.xlsx') \n",
    "dfETF.head()"
   ]
  },
  {
   "cell_type": "code",
   "execution_count": null,
   "id": "eace1dff-39ef-4100-91df-d09f78f48ea8",
   "metadata": {},
   "outputs": [],
   "source": [
    "dfETF.isna().sum() # to check the null values"
   ]
  },
  {
   "cell_type": "code",
   "execution_count": null,
   "id": "40cb05dc-e7b3-46c0-aa4c-f328f3cbbf94",
   "metadata": {},
   "outputs": [],
   "source": [
    "dfETF.head(10)"
   ]
  },
  {
   "cell_type": "markdown",
   "id": "11a6bb55-cc45-4efb-a924-2e9d7cd3ec15",
   "metadata": {},
   "source": [
    "## Data Processing\n",
    "1. We see that a few columns are not as they are supposed to be. AUM is a numeric variable and its units are also out of order. The Segment variable has multiple values in a single row and it can be distributed in 3 different columns.\n",
    "2. For AUM, we remove the dollar sign and the 'B' and 'M' notations. We also convert the unit from billion to million, to make the data consistent.\n",
    "3. For Segment, we break the entire value by its separators, ':' and '-' and distribute it in three separate columns."
   ]
  },
  {
   "cell_type": "markdown",
   "id": "35352882-24b5-41a5-a494-daab76d4d899",
   "metadata": {},
   "source": [
    "### Case 2\n",
    "* Change the units of the AUM variable and then modify the data frame"
   ]
  },
  {
   "cell_type": "code",
   "execution_count": null,
   "id": "7b072a1e-055a-49e4-9fbf-2d5cc98eed17",
   "metadata": {},
   "outputs": [],
   "source": [
    "dfETF['AUM'].replace('--', '$0', inplace = True)    \n",
    "dfETF['AUM'] = dfETF['AUM'].str.split('$').str[1]                                       # to split by $ to remove currency\n",
    "dfETF['AUM'] = dfETF['AUM'].replace({'B': '*1000', 'M': ''}, regex = True).map(pd.eval) # to replace 'B' by multiplying by 1000 and 'M' with nothing.\n",
    "dfETF['AUM'] = dfETF['AUM'].astype(float) # to convert from string to float\n",
    "dfETF['3-Mo TR'].replace('--', np.nan, inplace = True)    \n",
    "dfETF.head(10)"
   ]
  },
  {
   "cell_type": "markdown",
   "id": "dd1cfa0b-85bc-4858-8abf-1391b1508b6d",
   "metadata": {},
   "source": [
    "### Case 3\n",
    "* Process the Segment Variable data into three new columns(Asset class, Market, Segment) in the data frame. "
   ]
  },
  {
   "cell_type": "code",
   "execution_count": null,
   "id": "0bcac63f-99a0-40aa-9794-95e47e33af10",
   "metadata": {},
   "outputs": [],
   "source": [
    "# to split via ':' or '\\'\n",
    "dfETF['Asset class'] = dfETF['Segment'].str.split(':|-').str[0]\n",
    "dfETF['Market'] = dfETF['Segment'].str.split(':|-').str[1]\n",
    "dfETF['Segment'] = dfETF['Segment'].str.split(':|-').str[2]\n",
    "dfETF = dfETF.set_axis(['Ticker', 'Fund Name', 'Issuer', 'AUM', 'Expense Ratio', '3-Mo TR','Asset class', 'Market', 'Segment'], axis = 1)\n",
    "dfETF.head(10)"
   ]
  },
  {
   "cell_type": "code",
   "execution_count": null,
   "id": "588b740a-eed6-450d-9a5d-fa0cd0e097f9",
   "metadata": {},
   "outputs": [],
   "source": [
    "# to correct the column names\n",
    "dfETF.columns = ['Ticker', 'Fund Name', 'Issuer', 'AUM', 'Expense Ratio', '3-Mo TR',\n",
    "       'Segment', 'Asset class', 'Market']\n",
    "dfETF.head(10)"
   ]
  },
  {
   "cell_type": "markdown",
   "id": "9d43f4da-30bb-4b3f-bef1-1505dcf5e336",
   "metadata": {},
   "source": [
    "### Case 4\n",
    "* Index the data frame in multiple levels - first by the issuer and then by the ticker and then sort it by issuer and then by ticker. Display the first fifty records."
   ]
  },
  {
   "cell_type": "code",
   "execution_count": null,
   "id": "36908500-cae9-4904-b14d-9387f23a4286",
   "metadata": {},
   "outputs": [],
   "source": [
    "# to index the dataframe with issuer as level 0 and ticker as level 1\n",
    "dfETF1 = dfETF.set_index(keys = ['Issuer', 'Ticker']).sort_index(level = ['Issuer', 'Ticker'])\n",
    "dfETF1.head(10)"
   ]
  },
  {
   "cell_type": "markdown",
   "id": "be9e9860-7ca1-4367-b0ab-124e10ee1e4d",
   "metadata": {},
   "source": [
    "### Case 5\n",
    "* Create an observation: What kinds of social issues are supported by the various ETFs? How might you group them together to provide categories of social issues? "
   ]
  },
  {
   "cell_type": "markdown",
   "id": "88c107c0-2417-42b8-b760-9a782fa330fb",
   "metadata": {},
   "source": [
    "### Observation\n",
    "1. After observing the 'Fund Name' column, we find that there are various social issues supported by various ETFs.\n",
    "2. There are ETFs which target a broad spectrum like ESG ETF which is an index to track positive environmental, social and governance characteristics and Global Clean Energy ETF seeks to track the investment results of an index composed of global equities in the clean energy sector. On the other hand, there are ETFs which target a very specific social issue like the Fossil Fuel Free ETF which looks at the climate impact of popular mutual funds and shows you if your money is being invested in fossil fuel companies.\n",
    "3. We can group social issues into broad categories like Clean Energy, Clean Ocean, ESG, Women Freedom, Veteran Employers, etc. Subsequently, categories which are closely related to these broader categories can be grouped under them."
   ]
  },
  {
   "cell_type": "markdown",
   "id": "a43cac71-8703-4f95-b7c7-f8a0ac1715a6",
   "metadata": {},
   "source": [
    "## Data Analysis"
   ]
  },
  {
   "cell_type": "markdown",
   "id": "b8fbf2e0-2054-4b33-b6a9-a432e218ad84",
   "metadata": {},
   "source": [
    "### Case 6\n",
    "1. How many socially responsible ETFs are issued by each issuer? \n",
    "2. From this analysis, which issuer(s) do you recommend studying further? Why?"
   ]
  },
  {
   "cell_type": "markdown",
   "id": "4e42ba5d-b0dc-41bf-84a9-b743e274cd65",
   "metadata": {},
   "source": [
    "### Steps for Case 6\n",
    "We group the rows by 'Issuer' and count and sort them out."
   ]
  },
  {
   "cell_type": "code",
   "execution_count": null,
   "id": "373acd07-60bd-4188-8b0f-10a825429c58",
   "metadata": {},
   "outputs": [],
   "source": [
    "dfResETF = dfETF.groupby(by = 'Issuer').size().sort_values(ascending = False)\n",
    "dfResETF"
   ]
  },
  {
   "cell_type": "markdown",
   "id": "9a7be78a-99e9-4089-9da3-e1561bc53efd",
   "metadata": {},
   "source": [
    "### Observation\n",
    "1. According to the analysis done, we would prefer recommending the top 3 issuers, i.e. 'Blackrock', 'Nuveen Securities' and 'Deutsche Bank'.\n",
    "2. From initial research, we can see that these 3 issuers have shown the most interest in buying socially responsible ETFs.\n",
    "3. We can check \n",
    "    1. What types of ETFs do these issuers own?\n",
    "    2. What categories are the issuers interested in?\n",
    "    3. Are they interested in one specific category or are they looking for diversified investments?\n",
    "    4. Which ETFs are the most beneficial?\n",
    "    5. Which Asset Class, Market and Segment does an ETF lie in and how it affects the other factors associated with it?"
   ]
  },
  {
   "cell_type": "markdown",
   "id": "f4bf38d9-baf7-48c7-9259-2b5fcab8cfdb",
   "metadata": {},
   "source": [
    "### Case 7\n",
    "1. Review the total assets under management for each issuer. \n",
    "2. From this analysis, which issuer(s) do you recommend studying further? Why? "
   ]
  },
  {
   "cell_type": "markdown",
   "id": "6dd09717-cab0-4404-acf0-2bf161b66575",
   "metadata": {},
   "source": [
    "### Steps for Case 7\n",
    "We group the rows by 'Issuer'. Then for the 'AUM' variable, we do a little descriptive statistics."
   ]
  },
  {
   "cell_type": "code",
   "execution_count": null,
   "id": "0287bd22-1292-440f-a876-271e9a7622f9",
   "metadata": {},
   "outputs": [],
   "source": [
    "dfAUM = dfETF.groupby(by = dfETF['Issuer'])['AUM'].sum().sort_values(ascending = False)\n",
    "dfAUM.head()"
   ]
  },
  {
   "cell_type": "code",
   "execution_count": null,
   "id": "9a51e360-8945-4e6e-868f-db98f67fd0b1",
   "metadata": {},
   "outputs": [],
   "source": [
    "dfAUM = dfETF.groupby(by = dfETF['Issuer'])['AUM'].mean().sort_values(ascending = False)\n",
    "dfAUM.head()"
   ]
  },
  {
   "cell_type": "code",
   "execution_count": null,
   "id": "084de806-2439-475d-9e14-5e4e192298c7",
   "metadata": {},
   "outputs": [],
   "source": [
    "dfAUM = dfETF.groupby(by = dfETF['Issuer'])['AUM'].median().sort_values(ascending = False)\n",
    "dfAUM.head()"
   ]
  },
  {
   "cell_type": "markdown",
   "id": "6d823c29-bd3b-45fe-93f0-8817cc164d9c",
   "metadata": {},
   "source": [
    "### Observation\n",
    "1. We observe that Blackrock has the highest AUM with 65.4B dollars. Its median value is around 564M dollars when its mean value is 2.4B dollars. Which means that there are a couple of high priced ETFs. Overall, Blackrock can be studied and explored more.\n",
    "2. We can also see that Vanguard has the second highest AUM wiith 8.7B dollars and the highest mean and median value with 2.9B and 2.8B dollars respectively. This means that the ETFs which are owned by Vanguard are of the same range and they are pretty consistent as well.\n",
    "3. Other than these, Invesco, WisdomTree and Deutsche Bank have the highest AUM hence they seem to be worth studying."
   ]
  },
  {
   "cell_type": "markdown",
   "id": "29b45638-7d83-436a-bceb-6cd3a81c9002",
   "metadata": {},
   "source": [
    "### Case 8\n",
    "1. Review the assets under management for each fund. \n",
    "2. From this analysis, which issuer(s) do you recommend studying further? Why? "
   ]
  },
  {
   "cell_type": "markdown",
   "id": "9921313c-8434-42aa-9f3f-a3d775fc1757",
   "metadata": {},
   "source": [
    "### Steps for Case 8\n",
    "We group the rows by 'Issuer' and 'Fund Name'. Then for the 'AUM' variable, we sum it and sort it to see the highest ETF for Issuers."
   ]
  },
  {
   "cell_type": "code",
   "execution_count": null,
   "id": "39aa891d-efe1-46f8-9e0e-4a9f2772862c",
   "metadata": {},
   "outputs": [],
   "source": [
    "pd.set_option('max_rows',None)"
   ]
  },
  {
   "cell_type": "code",
   "execution_count": null,
   "id": "a82efb64-1456-433c-b6e6-0f39cbfcb2bc",
   "metadata": {},
   "outputs": [],
   "source": [
    "dfAUMFund = dfETF.groupby(by = ['Issuer', 'Fund Name'])['AUM'].sum().sort_values(ascending = False)\n",
    "dfAUMFund.head(11)"
   ]
  },
  {
   "cell_type": "markdown",
   "id": "8b3e81e6-3d78-48f4-9eed-f78b96edf36e",
   "metadata": {},
   "source": [
    "### Observation\n",
    "We see that the highest AUM ETFs are owned by the issuer 'Blackrock' with its top ETFs being at a value of more than 6.4B dollars. Apart from that, Vanguard, WisdomTree, Deutsche Bank and Invesco are the other top Issuers, with their ETFs having an AUM of above 3.5B dollars. These 5 Issuers should be further selected for analysis."
   ]
  },
  {
   "cell_type": "markdown",
   "id": "0a149466-e3ef-4667-9b50-32a2098727f3",
   "metadata": {},
   "source": [
    "### Case 9\n",
    "1. Analyze the expense ratios for the funds of each issuer. \n",
    "2. From this analysis, which issuer(s) do you recommend studying further? Why? "
   ]
  },
  {
   "cell_type": "markdown",
   "id": "47cf917c-d598-4b9f-b6d9-c0c59760d846",
   "metadata": {},
   "source": [
    "### Steps for Case 9\n",
    "We group the rows by 'Issuer'. Then for the 'Expense Ratio' variable, we do a little descriptive statistics to check which Issuer has the lowest expense ratio."
   ]
  },
  {
   "cell_type": "code",
   "execution_count": null,
   "id": "e2939cb5-7b39-40a7-b08f-c1b12754fdd2",
   "metadata": {},
   "outputs": [],
   "source": [
    "dfExpRatio = dfETF1.groupby(by = ['Issuer'])['Expense Ratio'].sum().sort_values()\n",
    "dfExpRatio.head()"
   ]
  },
  {
   "cell_type": "code",
   "execution_count": null,
   "id": "cbb58a12-a955-4e3a-869b-3a2606d9468d",
   "metadata": {},
   "outputs": [],
   "source": [
    "dfExpRatio = dfETF1.groupby(by = ['Issuer'])['Expense Ratio'].mean().sort_values()\n",
    "dfExpRatio.head()"
   ]
  },
  {
   "cell_type": "code",
   "execution_count": null,
   "id": "dfddb46e-0764-475e-9fc3-6c2d0608fddd",
   "metadata": {},
   "outputs": [],
   "source": [
    "dfExpRatio = dfETF1.groupby(by = ['Issuer'])['Expense Ratio'].median().sort_values()\n",
    "dfExpRatio.head()"
   ]
  },
  {
   "cell_type": "markdown",
   "id": "a9fc9700-83e1-477a-8fa1-2c75efd7d498",
   "metadata": {},
   "source": [
    "### Observation\n",
    "1. We see that Humankind USA has the lowest expense ratio of 0.0011. Which means that this Issuer will have the safest ETF for investment. But Humankind USA has only one ETF. So one cannot really predict whether the Issuer will have the best investment.\n",
    "2. Other than that, Vanguard, Blackrock and Deutcsche Bank have very low expense ratios, making them one of the best Issuers for safe investments.\n",
    "3. Companies like JPMorgan Chase, NorthernTrust, Nationwide, Fidelty and The Hartford, even though have a smaller expense ratio, but only own 1 ETF. SO we cannot really predict whether these companies are really good for investing."
   ]
  },
  {
   "cell_type": "markdown",
   "id": "1899ca91-9e24-4f16-b28a-a20a8d1ed243",
   "metadata": {},
   "source": [
    "### Case 10\n",
    "1. Analyze frequency distributions of the asset classes, markets, and segments for the funds of each issuer. \n",
    "2. From this analysis, make a recommendation on the type of fund your company should pursue, factoring in an asset class, market, and segment. What do you recommend? Why? "
   ]
  },
  {
   "cell_type": "markdown",
   "id": "566b7a11-035d-4289-9c4f-3cab8e1932d3",
   "metadata": {},
   "source": [
    "### Steps for Case 10\n",
    "We group the rows by 'Issuer'. Then we sort it out by 'Asset class', 'Market' and 'Segment' and count the values for every Issuer."
   ]
  },
  {
   "cell_type": "code",
   "execution_count": null,
   "id": "4748985f-8c3f-47e1-989d-aaf75c9db718",
   "metadata": {},
   "outputs": [],
   "source": [
    "dfAMS = dfETF.groupby(by = 'Issuer').count().sort_values(by = ['Asset class', 'Market', 'Segment'], ascending = False)[['Asset class', 'Market', 'Segment']]\n",
    "dfAMS"
   ]
  },
  {
   "cell_type": "markdown",
   "id": "84297d69-b8b8-4b12-909c-f7af57a1e1e7",
   "metadata": {},
   "source": [
    "### Observation\n",
    "The top 5 companies seem to have the best 'Asset Class', 'Market' and 'Segment' distribution and hence, these companies should be recommended."
   ]
  },
  {
   "cell_type": "markdown",
   "id": "168cee38-be48-43d9-8e40-8cf32137f81f",
   "metadata": {},
   "source": [
    "### Case 11\n",
    "1. Determine the mean 3-month total return percentages factoring in a combination of asset class, market, and segment together. \n",
    "2. From this analysis, make a recommendation on the type of fund your company should pursue, factoring in an asset class, market, and segment. What do you recommend? Why? "
   ]
  },
  {
   "cell_type": "markdown",
   "id": "17d82b2b-cfa0-4839-a356-471e8515315f",
   "metadata": {},
   "source": [
    "### Steps for Case 11\n",
    "We group the rows by 'Asset class', 'Market' and 'Segment'. Then we compute the mean according to the 3-month total return percentage and then sort it according to the descending value."
   ]
  },
  {
   "cell_type": "code",
   "execution_count": null,
   "id": "56c9bb38-f566-4a1e-9abe-e264a764b665",
   "metadata": {},
   "outputs": [],
   "source": [
    "df3Mon = dfETF.groupby(by = ['Asset class', 'Market', 'Segment']).mean()['3-Mo TR'].sort_values(ascending = False)\n",
    "df3Mon.head()"
   ]
  },
  {
   "cell_type": "code",
   "execution_count": null,
   "id": "177cd42a-ed13-41d0-84ab-d8b86b0ddb8f",
   "metadata": {},
   "outputs": [],
   "source": [
    "dfETF[(dfETF['Asset class'] == 'Equity') & (dfETF['Market'] == ' India ') & (dfETF['Segment'] == ' Total Market')].sort_values(by = ['3-Mo TR'], ascending = False)#[\"Fund Name\"]"
   ]
  },
  {
   "cell_type": "markdown",
   "id": "0c0f7ce1-82c8-49e1-a9b4-b28a572ad5b6",
   "metadata": {},
   "source": [
    "### Observation\n",
    "1. We display the top 10 rows for the given condition.\n",
    "2. We see that the Asset Class 'Equity' is the best to make an investment in. Post that, we see tha the best Markets are in 'India' and 'US' as they have a very high 3-month return percent. We see that the 'Mid Cap' and 'Large Cap' have the best returns.\n",
    "3. We see which Fund Name has the highest value and display it. This is the recommended Fund to invest in on the basis of 3-Mo TR."
   ]
  },
  {
   "cell_type": "markdown",
   "id": "feeb92f4-468c-416d-bdab-1f3cfee3ee12",
   "metadata": {},
   "source": [
    "### Case 12\n",
    "A senior executive at your company has said holding socially responsible investments is not profitable compared to holding investments that do not address socially responsible causes. Incorporate the analysis you have done in this assignment (and/or additional analysis if you would like) with a small amount of Internet research on current investments to prove or disprove the executive."
   ]
  },
  {
   "cell_type": "markdown",
   "id": "f7bbe456-ace9-48d9-b11d-4a921d0196d6",
   "metadata": {},
   "source": [
    "### Observation\n",
    "1. Comparing the socially responsible investments with corporate investments, Blackrock as a whole has a total AUM of 7.3T dollars whereas the share for social causes is only 65.4B dollars. Vanguard group sums a total of 6.1T but contributes a mere 8.7B dollars. These companies obviously have a better AUM return when it comes to corporate investments.\n",
    "2. Similarly, data suggests that the Expense ratio for non social responsible funds is lesser than the social responsible funds. Which means, companies having non social responsible funds are gonna be more profitable as compared to the socially responsible Funds.\n",
    "3. Although, AUM and Expense Ratio is in favour of non socially responsible companies, the 3month old transaction returns for socially responsible funds is greater than their counterparts."
   ]
  },
  {
   "cell_type": "markdown",
   "id": "f6c7f588-e9b8-44a4-a24d-ee9ae7a058f7",
   "metadata": {},
   "source": [
    "\"I pledge on my honor that I have not given nor received any unauthorized assistance on this assignment.\"\n",
    "#### --Parth Kodnani"
   ]
  }
 ],
 "metadata": {
  "kernelspec": {
   "display_name": "Python 3",
   "language": "python",
   "name": "python3"
  },
  "language_info": {
   "codemirror_mode": {
    "name": "ipython",
    "version": 3
   },
   "file_extension": ".py",
   "mimetype": "text/x-python",
   "name": "python",
   "nbconvert_exporter": "python",
   "pygments_lexer": "ipython3",
   "version": "3.8.8"
  }
 },
 "nbformat": 4,
 "nbformat_minor": 5
}
